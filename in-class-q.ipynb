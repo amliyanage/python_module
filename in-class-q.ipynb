{
 "cells": [
  {
   "cell_type": "code",
   "execution_count": null,
   "metadata": {},
   "outputs": [
    {
     "name": "stdout",
     "output_type": "stream",
     "text": [
      "student name : John\n",
      "Highest grade :  90\n",
      "Lowest grade :  10\n",
      "Average grade :  44.285714285714285\n",
      "student name : Smith\n",
      "No grades available\n"
     ]
    }
   ],
   "source": [
    "## Q1\n",
    "# write a python function called summarized_grade that accept student's name as a mandatory argument and\n",
    "# an arbitrary number of grades scores the function should , \n",
    "\n",
    "# 1. print the student's name\n",
    "# 2 . calculate and print the highest grade , lowest grade and average grade form provided scores\n",
    "# 3. if no grade are provided you should print \"No grades available\"\n",
    "\n",
    "def summarized_grade(name, *scores) :\n",
    "    print(\"student name : \" + name)\n",
    "    if len(scores) == 0 :\n",
    "        print(\"No grades available\")\n",
    "    else :\n",
    "        print(\"Highest grade : \", max(scores))\n",
    "        print(\"Lowest grade : \", min(scores))\n",
    "        print(\"Average grade : \", sum(scores)/len(scores))\n",
    "\n",
    "summarized_grade(\"John\", 10, 20, 30, 40, 50 , 70 , 90)\n",
    "summarized_grade(\"Smith\")"
   ]
  },
  {
   "cell_type": "code",
   "execution_count": 15,
   "metadata": {},
   "outputs": [
    {
     "name": "stdout",
     "output_type": "stream",
     "text": [
      "Employee name :  John\n",
      "age  :  30\n",
      "salary  :  10000\n",
      "department  :  IT\n"
     ]
    },
    {
     "data": {
      "text/plain": [
       "{'name': 'John', 'age': 30, 'salary': 10000, 'department': 'IT'}"
      ]
     },
     "execution_count": 15,
     "metadata": {},
     "output_type": "execute_result"
    }
   ],
   "source": [
    "## Q2\n",
    "# write python function called \"employee_info\" that accept a required \"name\" parameter and arbitrary number of keyword arguments representing \n",
    "# additional information about the employee,\n",
    "# the function should,\n",
    "\n",
    "# 1. print the employee's name\n",
    "# 2 . iterate the keyword arguments and print each key and value pair in the format \"key : value\"\n",
    "# 3 . modify employee function to return a dictionary containing all the employee ( including name and the additional attributes passed via keyword arguments)\n",
    "\n",
    "def employee_info(name, **kwargs) :\n",
    "    print(\"Employee name : \", name)\n",
    "    for key, value in kwargs.items() :\n",
    "        print(key, \" : \", value)\n",
    "    # dict = {\n",
    "    #     \"name\" : name,\n",
    "    #     **kwargs\n",
    "    # }\n",
    "    # return dict\n",
    "    dict = {\"name\" : name} | kwargs\n",
    "    return dict\n",
    "\n",
    "employee_info(\"John\", age = 30, salary = 10000, department = \"IT\")\n"
   ]
  }
 ],
 "metadata": {
  "kernelspec": {
   "display_name": "Python 3",
   "language": "python",
   "name": "python3"
  },
  "language_info": {
   "codemirror_mode": {
    "name": "ipython",
    "version": 3
   },
   "file_extension": ".py",
   "mimetype": "text/x-python",
   "name": "python",
   "nbconvert_exporter": "python",
   "pygments_lexer": "ipython3",
   "version": "3.13.0"
  }
 },
 "nbformat": 4,
 "nbformat_minor": 2
}
