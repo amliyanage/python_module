{
 "cells": [
  {
   "cell_type": "code",
   "execution_count": 59,
   "metadata": {},
   "outputs": [
    {
     "name": "stdout",
     "output_type": "stream",
     "text": [
      "student name : John\n",
      "Highest grade :  90\n",
      "Lowest grade :  10\n",
      "Average grade :  44.285714285714285\n",
      "student name : Smith\n",
      "No grades available\n"
     ]
    }
   ],
   "source": [
    "## Q1\n",
    "# write a python function called summarized_grade that accept student's name as a mandatory argument and\n",
    "# an arbitrary number of grades scores the function should , \n",
    "\n",
    "# 1. print the student's name\n",
    "# 2 . calculate and print the highest grade , lowest grade and average grade form provided scores\n",
    "# 3. if no grade are provided you should print \"No grades available\"\n",
    "\n",
    "def summarized_grade(name, *scores) :\n",
    "    print(\"student name : \" + name)\n",
    "    if len(scores) == 0 :\n",
    "        print(\"No grades available\")\n",
    "    else :\n",
    "        print(\"Highest grade : \", max(scores))\n",
    "        print(\"Lowest grade : \", min(scores))\n",
    "        print(\"Average grade : \", sum(scores)/len(scores))\n",
    "\n",
    "summarized_grade(\"John\", 10, 20, 30, 40, 50 , 70 , 90)\n",
    "summarized_grade(\"Smith\")"
   ]
  },
  {
   "cell_type": "code",
   "execution_count": 60,
   "metadata": {},
   "outputs": [
    {
     "name": "stdout",
     "output_type": "stream",
     "text": [
      "Employee name :  John\n",
      "age  :  30\n",
      "salary  :  10000\n",
      "department  :  IT\n"
     ]
    },
    {
     "data": {
      "text/plain": [
       "{'name': 'John', 'age': 30, 'salary': 10000, 'department': 'IT'}"
      ]
     },
     "execution_count": 60,
     "metadata": {},
     "output_type": "execute_result"
    }
   ],
   "source": [
    "## Q2\n",
    "# write python function called \"employee_info\" that accept a required \"name\" parameter and arbitrary number of keyword arguments representing \n",
    "# additional information about the employee,\n",
    "# the function should,\n",
    "\n",
    "# 1. print the employee's name\n",
    "# 2 . iterate the keyword arguments and print each key and value pair in the format \"key : value\"\n",
    "# 3 . modify employee function to return a dictionary containing all the employee ( including name and the additional attributes passed via keyword arguments)\n",
    "\n",
    "def employee_info(name, **kwargs) :\n",
    "    print(\"Employee name : \", name)\n",
    "    for key, value in kwargs.items() :\n",
    "        print(key, \" : \", value)\n",
    "    # dict = {\n",
    "    #     \"name\" : name,\n",
    "    #     **kwargs\n",
    "    # }\n",
    "    # return dict\n",
    "    dict = {\"name\" : name} | kwargs\n",
    "    return dict\n",
    "\n",
    "employee_info(\"John\", age = 30, salary = 10000, department = \"IT\")\n"
   ]
  },
  {
   "cell_type": "code",
   "execution_count": 61,
   "metadata": {},
   "outputs": [
    {
     "ename": "TypeError",
     "evalue": "'list' object is not callable",
     "output_type": "error",
     "traceback": [
      "\u001b[1;31m---------------------------------------------------------------------------\u001b[0m",
      "\u001b[1;31mTypeError\u001b[0m                                 Traceback (most recent call last)",
      "Cell \u001b[1;32mIn[61], line 9\u001b[0m\n\u001b[0;32m      6\u001b[0m     \u001b[38;5;28;01mreturn\u001b[39;00m x \u001b[38;5;241m+\u001b[39m y\n\u001b[0;32m      8\u001b[0m result \u001b[38;5;241m=\u001b[39m \u001b[38;5;28mmap\u001b[39m(cal, my_list_1, my_list_2)\n\u001b[1;32m----> 9\u001b[0m \u001b[38;5;28mprint\u001b[39m(\u001b[38;5;28;43mlist\u001b[39;49m\u001b[43m(\u001b[49m\u001b[43mresult\u001b[49m\u001b[43m)\u001b[49m)\n",
      "\u001b[1;31mTypeError\u001b[0m: 'list' object is not callable"
     ]
    }
   ],
   "source": [
    "## Q3\n",
    "my_list_1 = [10,8,5,6]\n",
    "my_list_2 = [4,3,6,1]\n",
    "\n",
    "def cal(x,y) :\n",
    "    return x + y\n",
    "\n",
    "result = map(cal, my_list_1, my_list_2)\n",
    "print(list(result))\n",
    "\n"
   ]
  },
  {
   "cell_type": "code",
   "execution_count": null,
   "metadata": {},
   "outputs": [],
   "source": [
    "# you have list of integer representing temp in \n",
    "# then write a python program using map function to convert this temp to fahrenheit\n",
    "# use the formula\n",
    "\n",
    "def convert_to_fahrenheit (celsius) : \n",
    "    return celsius * 9/5 +32\n",
    "\n",
    "my_list_1 = [20,30,25,40,15]\n",
    "\n",
    "print(list(map(convert_to_fahrenheit,my_list_1)))\n"
   ]
  },
  {
   "cell_type": "code",
   "execution_count": null,
   "metadata": {},
   "outputs": [],
   "source": [
    "# write a lambda function to return the power of 2 of a given number\n",
    "\n",
    "power = lambda x : x**2\n",
    "print(power(int(input(\"Enter a number : \"))))"
   ]
  },
  {
   "cell_type": "code",
   "execution_count": null,
   "metadata": {},
   "outputs": [],
   "source": [
    "# write a python program that ,\n",
    "# 1 . take a list of tupeles where each tuple contains a name(string) and age(integer).\n",
    "# 2 use a lambda function to filter out the tuples where the age is less than 18\n",
    "\n",
    "my_list = [(\"Alice\", 25), (\"John\", 17), (\"andrew\", 25), (\"Kate\", 15)]\n",
    "result = filter(lambda x: x[1] >= 18, my_list)\n",
    "print(list(result))\n"
   ]
  }
 ],
 "metadata": {
  "kernelspec": {
   "display_name": "Python 3",
   "language": "python",
   "name": "python3"
  },
  "language_info": {
   "codemirror_mode": {
    "name": "ipython",
    "version": 3
   },
   "file_extension": ".py",
   "mimetype": "text/x-python",
   "name": "python",
   "nbconvert_exporter": "python",
   "pygments_lexer": "ipython3",
   "version": "3.13.0"
  }
 },
 "nbformat": 4,
 "nbformat_minor": 2
}
