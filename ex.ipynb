{
 "cells": [
  {
   "cell_type": "code",
   "execution_count": 2,
   "metadata": {},
   "outputs": [
    {
     "name": "stdout",
     "output_type": "stream",
     "text": [
      "multipication by 7\n"
     ]
    }
   ],
   "source": [
    "input_num = input(\"Enter a number: \")\n",
    "\n",
    "num = int(input_num)\n",
    "\n",
    "if num < 0 : \n",
    "    print(\"Negative number\")\n",
    "else : \n",
    "    if num %  7 == 0 : \n",
    "        print(\"multipication by 7\")\n",
    "    else : \n",
    "        print(\"Not a multipication by 7\")"
   ]
  },
  {
   "cell_type": "code",
   "execution_count": 7,
   "metadata": {},
   "outputs": [
    {
     "name": "stdout",
     "output_type": "stream",
     "text": [
      "14\n",
      "F\n"
     ]
    }
   ],
   "source": [
    "input_mark = input(\"Enter a number: \")\n",
    "mark = int(input_num)\n",
    "print(mark)\n",
    "if mark > 100 :\n",
    "    print(\"Invalid mark\")\n",
    "elif mark >= 85 :\n",
    "    print(\"A\")\n",
    "elif mark >= 75 :\n",
    "    print(\"B\")\n",
    "elif mark >= 65 :\n",
    "    print(\"C\")\n",
    "elif mark >= 50 :\n",
    "    print(\"D\")\n",
    "else :\n",
    "    print(\"F\")"
   ]
  }
 ],
 "metadata": {
  "kernelspec": {
   "display_name": "Python 3",
   "language": "python",
   "name": "python3"
  },
  "language_info": {
   "codemirror_mode": {
    "name": "ipython",
    "version": 3
   },
   "file_extension": ".py",
   "mimetype": "text/x-python",
   "name": "python",
   "nbconvert_exporter": "python",
   "pygments_lexer": "ipython3",
   "version": "3.13.0"
  }
 },
 "nbformat": 4,
 "nbformat_minor": 2
}
